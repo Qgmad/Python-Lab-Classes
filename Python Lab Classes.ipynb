{
 "cells": [
  {
   "cell_type": "code",
   "execution_count": 1,
   "metadata": {},
   "outputs": [
    {
     "name": "stdout",
     "output_type": "stream",
     "text": [
      "The colour of animal is black\n",
      "The leg colour is Yellow\n"
     ]
    }
   ],
   "source": [
    "#1.\tWrite a Python program that has a class Animal with a method legs().\n",
    "#Create two subclasses Tiger and Dog, access the method leg explicitly with class Dog and implicitly with the class Tiger.\n",
    "class Animal:\n",
    "    aleg=\"black\"\n",
    "    def leg(self):\n",
    "        print('The colour of animal is' ,self.aleg)\n",
    "\n",
    "class Dog(Animal):\n",
    "    def call_leg(self):\n",
    "        self.leg()\n",
    "        self.aleg='Yellow'\n",
    "        print('The leg colour is' ,self.aleg)\n",
    "\n",
    "class Tiger(Dog):\n",
    "    def call_dog(self):\n",
    "        self.call_leg()\n",
    "        \n",
    "obj=Tiger()\n",
    "obj.call_dog()"
   ]
  },
  {
   "cell_type": "code",
   "execution_count": 2,
   "metadata": {},
   "outputs": [
    {
     "name": "stdout",
     "output_type": "stream",
     "text": [
      "This is Engineer\n",
      "This is Manager\n"
     ]
    }
   ],
   "source": [
    "#2.\tWrite a Python program to create a class Employee. Define two subclasses: Engineer and Manager.\n",
    "#Every class should have method named printDesignation() that prints Engineer for Engineer class\n",
    "#and Manager for Manager Class.\n",
    "class Employee:\n",
    "    engg='This is Engineer'\n",
    "    manager='This is Manager'\n",
    "\n",
    "class Engineer(Employee):\n",
    "    def printDesig(self):\n",
    "        print(self.engg)\n",
    "        \n",
    "class Manager(Engineer):\n",
    "    def printDesig(self):\n",
    "        Engineer.printDesig(self)\n",
    "        print(self.manager)\n",
    "        \n",
    "obj=Manager()\n",
    "obj.printDesig()"
   ]
  },
  {
   "cell_type": "code",
   "execution_count": 3,
   "metadata": {},
   "outputs": [
    {
     "name": "stdout",
     "output_type": "stream",
     "text": [
      "The class name is abc\n",
      "The value of x is 1\n",
      "The value of y is 2\n"
     ]
    }
   ],
   "source": [
    "#Demonstrate Classes and attributes\n",
    "class abc:\n",
    "    x=1\n",
    "    y=2\n",
    "    def abcfun(self):\n",
    "        print('The value of x is', self.x)\n",
    "        print('The value of y is', self.y)\n",
    "        \n",
    "print('The class name is abc')\n",
    "obj=abc()\n",
    "obj.abcfun()"
   ]
  },
  {
   "cell_type": "code",
   "execution_count": 4,
   "metadata": {},
   "outputs": [
    {
     "name": "stdout",
     "output_type": "stream",
     "text": [
      "Manager class inherits Employee and Engineer Class\n",
      "This is Engineer\n",
      "This is Manager\n"
     ]
    }
   ],
   "source": [
    "#Inheritance and Method Overriding\n",
    "class Employee:\n",
    "    engg='This is Engineer'\n",
    "    manager='This is Manager'\n",
    "\n",
    "class Engineer(Employee):\n",
    "    def printDesig(self):\n",
    "        print(self.engg)\n",
    "        \n",
    "class Manager(Engineer):\n",
    "    def printDesig(self):\n",
    "        print('Manager class inherits Employee and Engineer Class')\n",
    "        Engineer.printDesig(self)\n",
    "        print(self.manager)\n",
    "        \n",
    "obj=Manager()\n",
    "obj.printDesig()"
   ]
  },
  {
   "cell_type": "code",
   "execution_count": 5,
   "metadata": {},
   "outputs": [
    {
     "name": "stdout",
     "output_type": "stream",
     "text": [
      "In Class1\n"
     ]
    }
   ],
   "source": [
    "#Multiple Inheritance\n",
    "class class1:\n",
    "    def m(self):\n",
    "        print('In Class1')\n",
    "        \n",
    "class class2(class1):\n",
    "    def m(self):\n",
    "        print('In Class1')\n",
    "        \n",
    "class class3(class1):\n",
    "    def m(self):\n",
    "        print('In Class1')\n",
    "        \n",
    "class class4(class2, class3):\n",
    "    pass\n",
    "\n",
    "obj=class4()\n",
    "obj.m()"
   ]
  },
  {
   "cell_type": "code",
   "execution_count": null,
   "metadata": {},
   "outputs": [],
   "source": []
  }
 ],
 "metadata": {
  "kernelspec": {
   "display_name": "Python 3",
   "language": "python",
   "name": "python3"
  },
  "language_info": {
   "codemirror_mode": {
    "name": "ipython",
    "version": 3
   },
   "file_extension": ".py",
   "mimetype": "text/x-python",
   "name": "python",
   "nbconvert_exporter": "python",
   "pygments_lexer": "ipython3",
   "version": "3.7.6"
  }
 },
 "nbformat": 4,
 "nbformat_minor": 4
}
